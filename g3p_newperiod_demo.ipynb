{
 "cells": [
  {
   "cell_type": "markdown",
   "id": "e7e55139",
   "metadata": {},
   "source": [
    "### New period 2002 - 2016, which comes from the temporal analysis\n",
    "In this case we are using G3P version 1.5. In case new versions arrive, they must be included here for the claculation of a new period if needed."
   ]
  },
  {
   "cell_type": "code",
   "execution_count": 1,
   "id": "87ad4f5d",
   "metadata": {},
   "outputs": [],
   "source": [
    "from scipy.io import netcdf\n",
    "import numpy as np\n",
    "import pandas as pd\n",
    "import matplotlib\n",
    "import matplotlib.pyplot as plt\n",
    "import netCDF4\n",
    "import xarray as xr"
   ]
  },
  {
   "cell_type": "code",
   "execution_count": 2,
   "id": "cc7b9361",
   "metadata": {},
   "outputs": [],
   "source": [
    "#FOR GWSA\n",
    "import xarray as xr\n",
    "\n",
    "# Re-calculate the anomaly for G3P based on the time period from 2002.01 to 2016.12\n",
    "with xr.set_options(keep_attrs=True):\n",
    "    with xr.open_dataset('G3P_GWSA_V1.5_0.5deg_M_200204_202012.nc') as G3P:\n",
    "        G3P_2002_2016 = G3P['GWSA'].sel(time=slice('2002-01-01', '2016-12-01')) #Change here for different period\n",
    "        G3P_mean_2002_2016 = G3P_2002_2016.mean(\"time\", keep_attrs=True, skipna=True)\n",
    "        new_G3P_2002_2016 = G3P['GWSA'] - G3P_mean_2002_2016\n",
    "        new_G3P_2002_2016 = new_G3P_2002_2016.to_dataset(name='GWSA')\n",
    "\n",
    "new_G3P_2002_2016.to_netcdf(\"G3P_GWSA_V1.5_0.5deg_M_200204_202012_mean_base_2002_2016.nc\")#Change name for new file for different period"
   ]
  },
  {
   "cell_type": "code",
   "execution_count": 3,
   "id": "b7217c1f",
   "metadata": {},
   "outputs": [],
   "source": [
    "#FOR GWSA_LA_grav\n",
    "import xarray as xr\n",
    "#path_G3P_data = \"/your/input/directory/\"\n",
    "\n",
    "# Re-calculate the anomaly for G3P based on the time period from 2002.04 to 2016.12\n",
    "with xr.set_options(keep_attrs=True):\n",
    "    with xr.open_dataset('G3P_GWSA_V1.5_0.5deg_M_200204_202012.nc') as G3P:\n",
    "        G3P_LAgrav_2002_2016 = G3P['GWSA_LA_grav'].sel(time=slice('2002-01-01', '2016-12-01'))#Change here for different period\n",
    "        G3P_LAgrav_mean_2002_2016 = G3P_LAgrav_2002_2016.mean(\"time\", keep_attrs=True, skipna=True)\n",
    "        new_G3P_LAgrav_2002_2016 = G3P['GWSA_LA_grav'] - G3P_LAgrav_mean_2002_2016\n",
    "        new_G3P_LAgrav_2002_2016 = new_G3P_LAgrav_2002_2016.to_dataset(name='GWSA_LA_grav')\n",
    "\n",
    "new_G3P_LAgrav_2002_2016.to_netcdf(\"G3P_GWSA_LA_grav_V1.5_0.5deg_M_200204_202012_mean_base_2002_2016.nc\")#Change name for new file for different period"
   ]
  },
  {
   "cell_type": "code",
   "execution_count": 4,
   "id": "4e833721",
   "metadata": {},
   "outputs": [],
   "source": [
    "#FOR GWSA_LA_hyd\n",
    "import xarray as xr\n",
    "#path_G3P_data = \"/your/input/directory/\"\n",
    "\n",
    "# Re-calculate the anomaly for G3P based on the time period from 2002.04 to 2016.12\n",
    "with xr.set_options(keep_attrs=True):\n",
    "    with xr.open_dataset('G3P_GWSA_V1.5_0.5deg_M_200204_202012.nc') as G3P:\n",
    "        G3P_LAhyd_2002_2016 = G3P['GWSA_LA_hyd'].sel(time=slice('2002-01-01', '2016-12-01'))#Change here for different period\n",
    "        G3P_LAhyd_mean_2002_2016 = G3P_LAhyd_2002_2016.mean(\"time\", keep_attrs=True, skipna=True)\n",
    "        new_G3P_LAhyd_2002_2016 = G3P['GWSA_LA_hyd'] - G3P_LAhyd_mean_2002_2016\n",
    "        new_G3P_LAhyd_2002_2016 = new_G3P_LAhyd_2002_2016.to_dataset(name='GWSA_LA_hyd')\n",
    "\n",
    "new_G3P_LAhyd_2002_2016.to_netcdf(\"G3P_GWSA_LA_hyd_V1.5_0.5deg_M_200204_202012_mean_base_2002_2016.nc\")#Change name for new file for different period"
   ]
  },
  {
   "cell_type": "code",
   "execution_count": null,
   "id": "a2fb0c06",
   "metadata": {},
   "outputs": [],
   "source": []
  }
 ],
 "metadata": {
  "kernelspec": {
   "display_name": "geo_env",
   "language": "python",
   "name": "geo_env"
  },
  "language_info": {
   "codemirror_mode": {
    "name": "ipython",
    "version": 3
   },
   "file_extension": ".py",
   "mimetype": "text/x-python",
   "name": "python",
   "nbconvert_exporter": "python",
   "pygments_lexer": "ipython3",
   "version": "3.10.4"
  }
 },
 "nbformat": 4,
 "nbformat_minor": 5
}
